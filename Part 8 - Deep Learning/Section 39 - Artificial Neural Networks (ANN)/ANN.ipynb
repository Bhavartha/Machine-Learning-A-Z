{
  "nbformat": 4,
  "nbformat_minor": 0,
  "metadata": {
    "colab": {
      "name": "ANN.ipynb",
      "provenance": []
    },
    "kernelspec": {
      "name": "python3",
      "display_name": "Python 3"
    },
    "accelerator": "TPU"
  },
  "cells": [
    {
      "cell_type": "markdown",
      "metadata": {
        "id": "ntcR-8qXSowr",
        "colab_type": "text"
      },
      "source": [
        "# Artificial Neural Networks\n",
        "<hr>"
      ]
    },
    {
      "cell_type": "markdown",
      "metadata": {
        "id": "UDAd26sVS2SS",
        "colab_type": "text"
      },
      "source": [
        "## Part 1 - Importing dataset and data Pre-processing\n",
        "\n",
        "\n"
      ]
    },
    {
      "cell_type": "code",
      "metadata": {
        "id": "DeKlXNydSuME",
        "colab_type": "code",
        "colab": {
          "base_uri": "https://localhost:8080/",
          "height": 206
        },
        "outputId": "88225c91-cdfa-40c4-8078-09cbe352d8e4"
      },
      "source": [
        "import pandas as pd\n",
        "import numpy as np\n",
        "\n",
        "csv_url = \"https://raw.githubusercontent.com/Bhavartha/Machine-Learning-A-Z/master/Part%208%20-%20Deep%20Learning/Section%2039%20-%20Artificial%20Neural%20Networks%20(ANN)/Churn_Modelling.csv\"\n",
        "dataset = pd.read_csv(csv_url)\n",
        "dataset.head()"
      ],
      "execution_count": 1,
      "outputs": [
        {
          "output_type": "execute_result",
          "data": {
            "text/html": [
              "<div>\n",
              "<style scoped>\n",
              "    .dataframe tbody tr th:only-of-type {\n",
              "        vertical-align: middle;\n",
              "    }\n",
              "\n",
              "    .dataframe tbody tr th {\n",
              "        vertical-align: top;\n",
              "    }\n",
              "\n",
              "    .dataframe thead th {\n",
              "        text-align: right;\n",
              "    }\n",
              "</style>\n",
              "<table border=\"1\" class=\"dataframe\">\n",
              "  <thead>\n",
              "    <tr style=\"text-align: right;\">\n",
              "      <th></th>\n",
              "      <th>RowNumber</th>\n",
              "      <th>CustomerId</th>\n",
              "      <th>Surname</th>\n",
              "      <th>CreditScore</th>\n",
              "      <th>Geography</th>\n",
              "      <th>Gender</th>\n",
              "      <th>Age</th>\n",
              "      <th>Tenure</th>\n",
              "      <th>Balance</th>\n",
              "      <th>NumOfProducts</th>\n",
              "      <th>HasCrCard</th>\n",
              "      <th>IsActiveMember</th>\n",
              "      <th>EstimatedSalary</th>\n",
              "      <th>Exited</th>\n",
              "    </tr>\n",
              "  </thead>\n",
              "  <tbody>\n",
              "    <tr>\n",
              "      <th>0</th>\n",
              "      <td>1</td>\n",
              "      <td>15634602</td>\n",
              "      <td>Hargrave</td>\n",
              "      <td>619</td>\n",
              "      <td>France</td>\n",
              "      <td>Female</td>\n",
              "      <td>42</td>\n",
              "      <td>2</td>\n",
              "      <td>0.00</td>\n",
              "      <td>1</td>\n",
              "      <td>1</td>\n",
              "      <td>1</td>\n",
              "      <td>101348.88</td>\n",
              "      <td>1</td>\n",
              "    </tr>\n",
              "    <tr>\n",
              "      <th>1</th>\n",
              "      <td>2</td>\n",
              "      <td>15647311</td>\n",
              "      <td>Hill</td>\n",
              "      <td>608</td>\n",
              "      <td>Spain</td>\n",
              "      <td>Female</td>\n",
              "      <td>41</td>\n",
              "      <td>1</td>\n",
              "      <td>83807.86</td>\n",
              "      <td>1</td>\n",
              "      <td>0</td>\n",
              "      <td>1</td>\n",
              "      <td>112542.58</td>\n",
              "      <td>0</td>\n",
              "    </tr>\n",
              "    <tr>\n",
              "      <th>2</th>\n",
              "      <td>3</td>\n",
              "      <td>15619304</td>\n",
              "      <td>Onio</td>\n",
              "      <td>502</td>\n",
              "      <td>France</td>\n",
              "      <td>Female</td>\n",
              "      <td>42</td>\n",
              "      <td>8</td>\n",
              "      <td>159660.80</td>\n",
              "      <td>3</td>\n",
              "      <td>1</td>\n",
              "      <td>0</td>\n",
              "      <td>113931.57</td>\n",
              "      <td>1</td>\n",
              "    </tr>\n",
              "    <tr>\n",
              "      <th>3</th>\n",
              "      <td>4</td>\n",
              "      <td>15701354</td>\n",
              "      <td>Boni</td>\n",
              "      <td>699</td>\n",
              "      <td>France</td>\n",
              "      <td>Female</td>\n",
              "      <td>39</td>\n",
              "      <td>1</td>\n",
              "      <td>0.00</td>\n",
              "      <td>2</td>\n",
              "      <td>0</td>\n",
              "      <td>0</td>\n",
              "      <td>93826.63</td>\n",
              "      <td>0</td>\n",
              "    </tr>\n",
              "    <tr>\n",
              "      <th>4</th>\n",
              "      <td>5</td>\n",
              "      <td>15737888</td>\n",
              "      <td>Mitchell</td>\n",
              "      <td>850</td>\n",
              "      <td>Spain</td>\n",
              "      <td>Female</td>\n",
              "      <td>43</td>\n",
              "      <td>2</td>\n",
              "      <td>125510.82</td>\n",
              "      <td>1</td>\n",
              "      <td>1</td>\n",
              "      <td>1</td>\n",
              "      <td>79084.10</td>\n",
              "      <td>0</td>\n",
              "    </tr>\n",
              "  </tbody>\n",
              "</table>\n",
              "</div>"
            ],
            "text/plain": [
              "   RowNumber  CustomerId   Surname  ...  IsActiveMember EstimatedSalary Exited\n",
              "0          1    15634602  Hargrave  ...               1       101348.88      1\n",
              "1          2    15647311      Hill  ...               1       112542.58      0\n",
              "2          3    15619304      Onio  ...               0       113931.57      1\n",
              "3          4    15701354      Boni  ...               0        93826.63      0\n",
              "4          5    15737888  Mitchell  ...               1        79084.10      0\n",
              "\n",
              "[5 rows x 14 columns]"
            ]
          },
          "metadata": {
            "tags": []
          },
          "execution_count": 1
        }
      ]
    },
    {
      "cell_type": "code",
      "metadata": {
        "id": "2TxDaP5nTmzB",
        "colab_type": "code",
        "colab": {
          "base_uri": "https://localhost:8080/",
          "height": 146
        },
        "outputId": "2f53a5af-31bd-4bfc-db67-acbf45ed8b2a"
      },
      "source": [
        "# Separating Data into features and output\n",
        "\n",
        "X = dataset.iloc[:,3:13].values\n",
        "y = dataset['Exited']\n",
        "\n",
        "X"
      ],
      "execution_count": 2,
      "outputs": [
        {
          "output_type": "execute_result",
          "data": {
            "text/plain": [
              "array([[619, 'France', 'Female', ..., 1, 1, 101348.88],\n",
              "       [608, 'Spain', 'Female', ..., 0, 1, 112542.58],\n",
              "       [502, 'France', 'Female', ..., 1, 0, 113931.57],\n",
              "       ...,\n",
              "       [709, 'France', 'Female', ..., 0, 1, 42085.58],\n",
              "       [772, 'Germany', 'Male', ..., 1, 0, 92888.52],\n",
              "       [792, 'France', 'Female', ..., 1, 0, 38190.78]], dtype=object)"
            ]
          },
          "metadata": {
            "tags": []
          },
          "execution_count": 2
        }
      ]
    },
    {
      "cell_type": "code",
      "metadata": {
        "id": "WEh_tLvdUEaB",
        "colab_type": "code",
        "colab": {
          "base_uri": "https://localhost:8080/",
          "height": 146
        },
        "outputId": "c36b0c09-1ebf-459d-8d9a-d56d86c4b1c2"
      },
      "source": [
        "# Encoding categorial data\n",
        "\n",
        "from sklearn.preprocessing import LabelEncoder,OneHotEncoder\n",
        "from sklearn.compose import ColumnTransformer\n",
        "ctX = ColumnTransformer([(\"encoder\", OneHotEncoder(drop='first'), [1,2])], remainder = 'passthrough')\n",
        "X = np.array(ctX.fit_transform(X),dtype=np.int)\n",
        "X"
      ],
      "execution_count": 3,
      "outputs": [
        {
          "output_type": "execute_result",
          "data": {
            "text/plain": [
              "array([[     0,      0,      0, ...,      1,      1, 101348],\n",
              "       [     0,      1,      0, ...,      0,      1, 112542],\n",
              "       [     0,      0,      0, ...,      1,      0, 113931],\n",
              "       ...,\n",
              "       [     0,      0,      0, ...,      0,      1,  42085],\n",
              "       [     1,      0,      1, ...,      1,      0,  92888],\n",
              "       [     0,      0,      0, ...,      1,      0,  38190]])"
            ]
          },
          "metadata": {
            "tags": []
          },
          "execution_count": 3
        }
      ]
    },
    {
      "cell_type": "code",
      "metadata": {
        "id": "Pp9JjTtgV40W",
        "colab_type": "code",
        "colab": {
          "base_uri": "https://localhost:8080/",
          "height": 146
        },
        "outputId": "256a8448-84a3-4de4-8ab7-d2a697c74248"
      },
      "source": [
        "#Splitting in test and training\n",
        "from sklearn.model_selection import train_test_split as TTS\n",
        "\n",
        "X_train,X_test,y_train,y_test= TTS(X,y, test_size=0.2,random_state=0)\n",
        "X_train"
      ],
      "execution_count": 4,
      "outputs": [
        {
          "output_type": "execute_result",
          "data": {
            "text/plain": [
              "array([[     0,      1,      0, ...,      1,      0, 163830],\n",
              "       [     1,      0,      1, ...,      1,      1,  57098],\n",
              "       [     0,      0,      0, ...,      1,      0, 185630],\n",
              "       ...,\n",
              "       [     0,      0,      1, ...,      1,      0, 181429],\n",
              "       [     0,      1,      0, ...,      1,      1, 148750],\n",
              "       [     1,      0,      0, ...,      1,      0, 118855]])"
            ]
          },
          "metadata": {
            "tags": []
          },
          "execution_count": 4
        }
      ]
    },
    {
      "cell_type": "code",
      "metadata": {
        "id": "IJ79gNTMdUaH",
        "colab_type": "code",
        "colab": {
          "base_uri": "https://localhost:8080/",
          "height": 256
        },
        "outputId": "f4c9665f-8276-47d4-ecd0-316f94cda136"
      },
      "source": [
        "# Feature Scaling\n",
        "\n",
        "from sklearn.preprocessing import StandardScaler\n",
        "ss=StandardScaler()\n",
        "ss.fit(X_train)\n",
        "X_train=ss.transform(X_train)\n",
        "X_test=ss.transform(X_test)\n",
        "\n",
        "X_train"
      ],
      "execution_count": 5,
      "outputs": [
        {
          "output_type": "execute_result",
          "data": {
            "text/plain": [
              "array([[-0.5698444 ,  1.74309049, -1.09168714, ...,  0.64259497,\n",
              "        -1.03227043,  1.10642907],\n",
              "       [ 1.75486502, -0.57369368,  0.91601335, ...,  0.64259497,\n",
              "         0.9687384 , -0.74865592],\n",
              "       [-0.5698444 , -0.57369368, -1.09168714, ...,  0.64259497,\n",
              "        -1.03227043,  1.48532999],\n",
              "       ...,\n",
              "       [-0.5698444 , -0.57369368,  0.91601335, ...,  0.64259497,\n",
              "        -1.03227043,  1.41231335],\n",
              "       [-0.5698444 ,  1.74309049, -1.09168714, ...,  0.64259497,\n",
              "         0.9687384 ,  0.84432697],\n",
              "       [ 1.75486502, -0.57369368, -1.09168714, ...,  0.64259497,\n",
              "        -1.03227043,  0.32472867]])"
            ]
          },
          "metadata": {
            "tags": []
          },
          "execution_count": 5
        }
      ]
    },
    {
      "cell_type": "markdown",
      "metadata": {
        "id": "P6VGcIkXdH61",
        "colab_type": "text"
      },
      "source": [
        "## Part 2 - Creating ANN"
      ]
    },
    {
      "cell_type": "code",
      "metadata": {
        "id": "V5TYvh2fdFO8",
        "colab_type": "code",
        "colab": {
          "base_uri": "https://localhost:8080/",
          "height": 35
        },
        "outputId": "3914cc55-3d64-4ef6-dde1-d86d138e917c"
      },
      "source": [
        "# Importing keras libraries and packages\n",
        "\n",
        "import keras\n",
        "from keras.models import Sequential\n",
        "from keras.layers import Dense"
      ],
      "execution_count": 6,
      "outputs": [
        {
          "output_type": "stream",
          "text": [
            "Using TensorFlow backend.\n"
          ],
          "name": "stderr"
        }
      ]
    },
    {
      "cell_type": "code",
      "metadata": {
        "id": "42CL5xRWd5Ew",
        "colab_type": "code",
        "colab": {}
      },
      "source": [
        "# Initializing ANN\n",
        "\n",
        "classifier = Sequential()\n",
        "\n",
        "# Adding input layer and first hidden layer\n",
        "classifier.add(Dense(6,input_shape=(11,), activation='relu',kernel_initializer='uniform'))\n",
        "# Adding second hidden layer and output layer\n",
        "classifier.add(Dense(6, activation='relu',kernel_initializer='uniform'))\n",
        "classifier.add(Dense(1, activation='sigmoid',kernel_initializer='uniform'))"
      ],
      "execution_count": 0,
      "outputs": []
    },
    {
      "cell_type": "code",
      "metadata": {
        "id": "lKb-SnGdzk9N",
        "colab_type": "code",
        "colab": {}
      },
      "source": [
        "# Compiling ANN\n",
        "\n",
        "classifier.compile(optimizer='adam',loss='binary_crossentropy',metrics=['accuracy'])"
      ],
      "execution_count": 0,
      "outputs": []
    },
    {
      "cell_type": "code",
      "metadata": {
        "id": "SOxfeV7Fzz7y",
        "colab_type": "code",
        "colab": {
          "base_uri": "https://localhost:8080/",
          "height": 1000
        },
        "outputId": "5cbb598f-555f-489b-a2ae-9238bf6a0b18"
      },
      "source": [
        "# Fitting ANN\n",
        "\n",
        "classifier.fit(X_train,y_train,batch_size=10,epochs=100)"
      ],
      "execution_count": 11,
      "outputs": [
        {
          "output_type": "stream",
          "text": [
            "Epoch 1/100\n",
            "8000/8000 [==============================] - 1s 104us/step - loss: 0.3987 - accuracy: 0.8357\n",
            "Epoch 2/100\n",
            "8000/8000 [==============================] - 1s 106us/step - loss: 0.3989 - accuracy: 0.8347\n",
            "Epoch 3/100\n",
            "8000/8000 [==============================] - 1s 105us/step - loss: 0.3994 - accuracy: 0.8357\n",
            "Epoch 4/100\n",
            "8000/8000 [==============================] - 1s 106us/step - loss: 0.3989 - accuracy: 0.8360\n",
            "Epoch 5/100\n",
            "8000/8000 [==============================] - 1s 107us/step - loss: 0.3991 - accuracy: 0.8345\n",
            "Epoch 6/100\n",
            "8000/8000 [==============================] - 1s 103us/step - loss: 0.3986 - accuracy: 0.8353\n",
            "Epoch 7/100\n",
            "8000/8000 [==============================] - 1s 104us/step - loss: 0.3991 - accuracy: 0.8357\n",
            "Epoch 8/100\n",
            "8000/8000 [==============================] - 1s 103us/step - loss: 0.3994 - accuracy: 0.8344\n",
            "Epoch 9/100\n",
            "8000/8000 [==============================] - 1s 103us/step - loss: 0.3989 - accuracy: 0.8354\n",
            "Epoch 10/100\n",
            "8000/8000 [==============================] - 1s 104us/step - loss: 0.3991 - accuracy: 0.8357\n",
            "Epoch 11/100\n",
            "8000/8000 [==============================] - 1s 104us/step - loss: 0.3990 - accuracy: 0.8361\n",
            "Epoch 12/100\n",
            "8000/8000 [==============================] - 1s 104us/step - loss: 0.3988 - accuracy: 0.8367\n",
            "Epoch 13/100\n",
            "8000/8000 [==============================] - 1s 104us/step - loss: 0.3988 - accuracy: 0.8353\n",
            "Epoch 14/100\n",
            "8000/8000 [==============================] - 1s 105us/step - loss: 0.3986 - accuracy: 0.8357\n",
            "Epoch 15/100\n",
            "8000/8000 [==============================] - 1s 106us/step - loss: 0.3991 - accuracy: 0.8359\n",
            "Epoch 16/100\n",
            "8000/8000 [==============================] - 1s 106us/step - loss: 0.3987 - accuracy: 0.8344\n",
            "Epoch 17/100\n",
            "8000/8000 [==============================] - 1s 104us/step - loss: 0.3989 - accuracy: 0.8356\n",
            "Epoch 18/100\n",
            "8000/8000 [==============================] - 1s 107us/step - loss: 0.3992 - accuracy: 0.8371\n",
            "Epoch 19/100\n",
            "8000/8000 [==============================] - 1s 106us/step - loss: 0.3991 - accuracy: 0.8363\n",
            "Epoch 20/100\n",
            "8000/8000 [==============================] - 1s 103us/step - loss: 0.3992 - accuracy: 0.8353\n",
            "Epoch 21/100\n",
            "8000/8000 [==============================] - 1s 106us/step - loss: 0.3987 - accuracy: 0.8355\n",
            "Epoch 22/100\n",
            "8000/8000 [==============================] - 1s 103us/step - loss: 0.3987 - accuracy: 0.8345\n",
            "Epoch 23/100\n",
            "8000/8000 [==============================] - 1s 105us/step - loss: 0.3987 - accuracy: 0.8374\n",
            "Epoch 24/100\n",
            "8000/8000 [==============================] - 1s 104us/step - loss: 0.3991 - accuracy: 0.8351\n",
            "Epoch 25/100\n",
            "8000/8000 [==============================] - 1s 104us/step - loss: 0.3991 - accuracy: 0.8341\n",
            "Epoch 26/100\n",
            "8000/8000 [==============================] - 1s 105us/step - loss: 0.3989 - accuracy: 0.8353\n",
            "Epoch 27/100\n",
            "8000/8000 [==============================] - 1s 105us/step - loss: 0.3988 - accuracy: 0.8360\n",
            "Epoch 28/100\n",
            "8000/8000 [==============================] - 1s 106us/step - loss: 0.3986 - accuracy: 0.8342\n",
            "Epoch 29/100\n",
            "8000/8000 [==============================] - 1s 105us/step - loss: 0.3986 - accuracy: 0.8360\n",
            "Epoch 30/100\n",
            "8000/8000 [==============================] - 1s 106us/step - loss: 0.3989 - accuracy: 0.8347\n",
            "Epoch 31/100\n",
            "8000/8000 [==============================] - 1s 106us/step - loss: 0.3991 - accuracy: 0.8354\n",
            "Epoch 32/100\n",
            "8000/8000 [==============================] - 1s 103us/step - loss: 0.3986 - accuracy: 0.8359\n",
            "Epoch 33/100\n",
            "8000/8000 [==============================] - 1s 105us/step - loss: 0.3984 - accuracy: 0.8353\n",
            "Epoch 34/100\n",
            "8000/8000 [==============================] - 1s 104us/step - loss: 0.3989 - accuracy: 0.8363\n",
            "Epoch 35/100\n",
            "8000/8000 [==============================] - 1s 104us/step - loss: 0.3986 - accuracy: 0.8366\n",
            "Epoch 36/100\n",
            "8000/8000 [==============================] - 1s 107us/step - loss: 0.3989 - accuracy: 0.8341\n",
            "Epoch 37/100\n",
            "8000/8000 [==============================] - 1s 106us/step - loss: 0.3990 - accuracy: 0.8355\n",
            "Epoch 38/100\n",
            "8000/8000 [==============================] - 1s 104us/step - loss: 0.3986 - accuracy: 0.8375\n",
            "Epoch 39/100\n",
            "8000/8000 [==============================] - 1s 105us/step - loss: 0.3990 - accuracy: 0.8355\n",
            "Epoch 40/100\n",
            "8000/8000 [==============================] - 1s 105us/step - loss: 0.3988 - accuracy: 0.8350\n",
            "Epoch 41/100\n",
            "8000/8000 [==============================] - 1s 104us/step - loss: 0.3986 - accuracy: 0.8364\n",
            "Epoch 42/100\n",
            "8000/8000 [==============================] - 1s 104us/step - loss: 0.3989 - accuracy: 0.8356\n",
            "Epoch 43/100\n",
            "8000/8000 [==============================] - 1s 104us/step - loss: 0.3990 - accuracy: 0.8370\n",
            "Epoch 44/100\n",
            "8000/8000 [==============================] - 1s 103us/step - loss: 0.3988 - accuracy: 0.8344\n",
            "Epoch 45/100\n",
            "8000/8000 [==============================] - 1s 105us/step - loss: 0.3986 - accuracy: 0.8364\n",
            "Epoch 46/100\n",
            "8000/8000 [==============================] - 1s 104us/step - loss: 0.3985 - accuracy: 0.8365\n",
            "Epoch 47/100\n",
            "8000/8000 [==============================] - 1s 106us/step - loss: 0.3987 - accuracy: 0.8345\n",
            "Epoch 48/100\n",
            "8000/8000 [==============================] - 1s 105us/step - loss: 0.3986 - accuracy: 0.8366\n",
            "Epoch 49/100\n",
            "8000/8000 [==============================] - 1s 104us/step - loss: 0.3986 - accuracy: 0.8354\n",
            "Epoch 50/100\n",
            "8000/8000 [==============================] - 1s 104us/step - loss: 0.3986 - accuracy: 0.8350\n",
            "Epoch 51/100\n",
            "8000/8000 [==============================] - 1s 103us/step - loss: 0.3985 - accuracy: 0.8347\n",
            "Epoch 52/100\n",
            "8000/8000 [==============================] - 1s 106us/step - loss: 0.3991 - accuracy: 0.8370\n",
            "Epoch 53/100\n",
            "8000/8000 [==============================] - 1s 107us/step - loss: 0.3984 - accuracy: 0.8355\n",
            "Epoch 54/100\n",
            "8000/8000 [==============================] - 1s 106us/step - loss: 0.3987 - accuracy: 0.8370\n",
            "Epoch 55/100\n",
            "8000/8000 [==============================] - 1s 104us/step - loss: 0.3989 - accuracy: 0.8366\n",
            "Epoch 56/100\n",
            "8000/8000 [==============================] - 1s 106us/step - loss: 0.3990 - accuracy: 0.8361\n",
            "Epoch 57/100\n",
            "8000/8000 [==============================] - 1s 105us/step - loss: 0.3987 - accuracy: 0.8353\n",
            "Epoch 58/100\n",
            "8000/8000 [==============================] - 1s 103us/step - loss: 0.3986 - accuracy: 0.8363\n",
            "Epoch 59/100\n",
            "8000/8000 [==============================] - 1s 105us/step - loss: 0.3989 - accuracy: 0.8356\n",
            "Epoch 60/100\n",
            "8000/8000 [==============================] - 1s 103us/step - loss: 0.3987 - accuracy: 0.8350\n",
            "Epoch 61/100\n",
            "8000/8000 [==============================] - 1s 105us/step - loss: 0.3988 - accuracy: 0.8359\n",
            "Epoch 62/100\n",
            "8000/8000 [==============================] - 1s 103us/step - loss: 0.3986 - accuracy: 0.8353\n",
            "Epoch 63/100\n",
            "8000/8000 [==============================] - 1s 104us/step - loss: 0.3986 - accuracy: 0.8360\n",
            "Epoch 64/100\n",
            "8000/8000 [==============================] - 1s 106us/step - loss: 0.3987 - accuracy: 0.8356\n",
            "Epoch 65/100\n",
            "8000/8000 [==============================] - 1s 106us/step - loss: 0.3986 - accuracy: 0.8365\n",
            "Epoch 66/100\n",
            "8000/8000 [==============================] - 1s 104us/step - loss: 0.3989 - accuracy: 0.8356\n",
            "Epoch 67/100\n",
            "8000/8000 [==============================] - 1s 104us/step - loss: 0.3986 - accuracy: 0.8355\n",
            "Epoch 68/100\n",
            "8000/8000 [==============================] - 1s 103us/step - loss: 0.3987 - accuracy: 0.8350\n",
            "Epoch 69/100\n",
            "8000/8000 [==============================] - 1s 105us/step - loss: 0.3987 - accuracy: 0.8366\n",
            "Epoch 70/100\n",
            "8000/8000 [==============================] - 1s 105us/step - loss: 0.3989 - accuracy: 0.8356\n",
            "Epoch 71/100\n",
            "8000/8000 [==============================] - 1s 104us/step - loss: 0.3987 - accuracy: 0.8356\n",
            "Epoch 72/100\n",
            "8000/8000 [==============================] - 1s 103us/step - loss: 0.3987 - accuracy: 0.8359\n",
            "Epoch 73/100\n",
            "8000/8000 [==============================] - 1s 105us/step - loss: 0.3988 - accuracy: 0.8360\n",
            "Epoch 74/100\n",
            "8000/8000 [==============================] - 1s 104us/step - loss: 0.3983 - accuracy: 0.8356\n",
            "Epoch 75/100\n",
            "8000/8000 [==============================] - 1s 105us/step - loss: 0.3988 - accuracy: 0.8349\n",
            "Epoch 76/100\n",
            "8000/8000 [==============================] - 1s 106us/step - loss: 0.3988 - accuracy: 0.8353\n",
            "Epoch 77/100\n",
            "8000/8000 [==============================] - 1s 106us/step - loss: 0.3986 - accuracy: 0.8359\n",
            "Epoch 78/100\n",
            "8000/8000 [==============================] - 1s 103us/step - loss: 0.3988 - accuracy: 0.8344\n",
            "Epoch 79/100\n",
            "8000/8000 [==============================] - 1s 107us/step - loss: 0.3987 - accuracy: 0.8347\n",
            "Epoch 80/100\n",
            "8000/8000 [==============================] - 1s 103us/step - loss: 0.3987 - accuracy: 0.8356\n",
            "Epoch 81/100\n",
            "8000/8000 [==============================] - 1s 105us/step - loss: 0.3989 - accuracy: 0.8360\n",
            "Epoch 82/100\n",
            "8000/8000 [==============================] - 1s 104us/step - loss: 0.3984 - accuracy: 0.8361\n",
            "Epoch 83/100\n",
            "8000/8000 [==============================] - 1s 103us/step - loss: 0.3987 - accuracy: 0.8349\n",
            "Epoch 84/100\n",
            "8000/8000 [==============================] - 1s 103us/step - loss: 0.3984 - accuracy: 0.8361\n",
            "Epoch 85/100\n",
            "8000/8000 [==============================] - 1s 104us/step - loss: 0.3990 - accuracy: 0.8350\n",
            "Epoch 86/100\n",
            "8000/8000 [==============================] - 1s 104us/step - loss: 0.3987 - accuracy: 0.8371\n",
            "Epoch 87/100\n",
            "8000/8000 [==============================] - 1s 103us/step - loss: 0.3988 - accuracy: 0.8349\n",
            "Epoch 88/100\n",
            "8000/8000 [==============================] - 1s 105us/step - loss: 0.3988 - accuracy: 0.8376\n",
            "Epoch 89/100\n",
            "8000/8000 [==============================] - 1s 104us/step - loss: 0.3985 - accuracy: 0.8354\n",
            "Epoch 90/100\n",
            "8000/8000 [==============================] - 1s 104us/step - loss: 0.3981 - accuracy: 0.8357\n",
            "Epoch 91/100\n",
            "8000/8000 [==============================] - 1s 107us/step - loss: 0.3986 - accuracy: 0.8359\n",
            "Epoch 92/100\n",
            "8000/8000 [==============================] - 1s 106us/step - loss: 0.3987 - accuracy: 0.8359\n",
            "Epoch 93/100\n",
            "8000/8000 [==============================] - 1s 105us/step - loss: 0.3986 - accuracy: 0.8350\n",
            "Epoch 94/100\n",
            "8000/8000 [==============================] - 1s 106us/step - loss: 0.3986 - accuracy: 0.8355\n",
            "Epoch 95/100\n",
            "8000/8000 [==============================] - 1s 105us/step - loss: 0.3986 - accuracy: 0.8351\n",
            "Epoch 96/100\n",
            "8000/8000 [==============================] - 1s 104us/step - loss: 0.3983 - accuracy: 0.8360\n",
            "Epoch 97/100\n",
            "8000/8000 [==============================] - 1s 105us/step - loss: 0.3983 - accuracy: 0.8370\n",
            "Epoch 98/100\n",
            "8000/8000 [==============================] - 1s 104us/step - loss: 0.3986 - accuracy: 0.8350\n",
            "Epoch 99/100\n",
            "8000/8000 [==============================] - 1s 105us/step - loss: 0.3983 - accuracy: 0.8354\n",
            "Epoch 100/100\n",
            "8000/8000 [==============================] - 1s 104us/step - loss: 0.3982 - accuracy: 0.8363\n"
          ],
          "name": "stdout"
        },
        {
          "output_type": "execute_result",
          "data": {
            "text/plain": [
              "<keras.callbacks.callbacks.History at 0x7f0cd236cf60>"
            ]
          },
          "metadata": {
            "tags": []
          },
          "execution_count": 11
        }
      ]
    },
    {
      "cell_type": "markdown",
      "metadata": {
        "id": "vglKiFE00A9q",
        "colab_type": "text"
      },
      "source": [
        "## Part 3 - Predictions and evaluation of model"
      ]
    },
    {
      "cell_type": "code",
      "metadata": {
        "id": "L28cVHmz2GfU",
        "colab_type": "code",
        "colab": {
          "base_uri": "https://localhost:8080/",
          "height": 54
        },
        "outputId": "1d0d75ec-64f6-4317-86b7-09d371d7540f"
      },
      "source": [
        "y_pred = classifier.predict(X_test)\n",
        "y_pred = [1 if _>0.5 else 0 for _ in y_pred]\n",
        "\n",
        "# Making confusion matrix\n",
        "from sklearn.metrics import confusion_matrix\n",
        "confusion_matrix(y_test,y_pred)"
      ],
      "execution_count": 13,
      "outputs": [
        {
          "output_type": "execute_result",
          "data": {
            "text/plain": [
              "array([[1546,   49],\n",
              "       [ 275,  130]])"
            ]
          },
          "metadata": {
            "tags": []
          },
          "execution_count": 13
        }
      ]
    },
    {
      "cell_type": "code",
      "metadata": {
        "id": "9FdB044J2Stq",
        "colab_type": "code",
        "colab": {
          "base_uri": "https://localhost:8080/",
          "height": 35
        },
        "outputId": "046381c7-1467-434b-f826-6bc04c54eb3e"
      },
      "source": [
        "(1546+130)/(1544+130+49+275)"
      ],
      "execution_count": 14,
      "outputs": [
        {
          "output_type": "execute_result",
          "data": {
            "text/plain": [
              "0.8388388388388388"
            ]
          },
          "metadata": {
            "tags": []
          },
          "execution_count": 14
        }
      ]
    }
  ]
}